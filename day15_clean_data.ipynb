{
  "cells": [
    {
      "cell_type": "markdown",
      "metadata": {
        "id": "view-in-github",
        "colab_type": "text"
      },
      "source": [
        "<a href=\"https://colab.research.google.com/github/Amin-mo/Credit-Default-Prediction/blob/main/day15_clean_data.ipynb\" target=\"_parent\"><img src=\"https://colab.research.google.com/assets/colab-badge.svg\" alt=\"Open In Colab\"/></a>"
      ]
    },
    {
      "cell_type": "markdown",
      "source": [
        "# day 15"
      ],
      "metadata": {
        "id": "k59GkbdNdhzS"
      }
    },
    {
      "cell_type": "code",
      "source": [
        "import pandas as pd\n",
        "df = pd.read_excel(\"default of credit card clients.xls\", header=1)\n"
      ],
      "metadata": {
        "id": "HiBSUVPldj1U"
      },
      "execution_count": null,
      "outputs": []
    },
    {
      "cell_type": "code",
      "source": [
        "df.rename(columns={\"default payment next month\": \"default\"}, inplace=True)\n"
      ],
      "metadata": {
        "id": "KPA1cC8q5Ekv"
      },
      "execution_count": null,
      "outputs": []
    },
    {
      "cell_type": "code",
      "source": [
        "print(df.head())\n",
        "print(df.info())\n",
        "print(df[\"default\"].value_counts())\n"
      ],
      "metadata": {
        "colab": {
          "base_uri": "https://localhost:8080/"
        },
        "id": "B-Y_Nepd8zaJ",
        "outputId": "943577e0-7e2b-4cfa-9281-47ae9303090e"
      },
      "execution_count": null,
      "outputs": [
        {
          "output_type": "stream",
          "name": "stdout",
          "text": [
            "   ID  LIMIT_BAL  SEX  EDUCATION  MARRIAGE  AGE  PAY_0  PAY_2  PAY_3  PAY_4  \\\n",
            "0   1      20000    2          2         1   24      2      2     -1     -1   \n",
            "1   2     120000    2          2         2   26     -1      2      0      0   \n",
            "2   3      90000    2          2         2   34      0      0      0      0   \n",
            "3   4      50000    2          2         1   37      0      0      0      0   \n",
            "4   5      50000    1          2         1   57     -1      0     -1      0   \n",
            "\n",
            "   ...  BILL_AMT4  BILL_AMT5  BILL_AMT6  PAY_AMT1  PAY_AMT2  PAY_AMT3  \\\n",
            "0  ...          0          0          0         0       689         0   \n",
            "1  ...       3272       3455       3261         0      1000      1000   \n",
            "2  ...      14331      14948      15549      1518      1500      1000   \n",
            "3  ...      28314      28959      29547      2000      2019      1200   \n",
            "4  ...      20940      19146      19131      2000     36681     10000   \n",
            "\n",
            "   PAY_AMT4  PAY_AMT5  PAY_AMT6  default  \n",
            "0         0         0         0        1  \n",
            "1      1000         0      2000        1  \n",
            "2      1000      1000      5000        0  \n",
            "3      1100      1069      1000        0  \n",
            "4      9000       689       679        0  \n",
            "\n",
            "[5 rows x 25 columns]\n",
            "<class 'pandas.core.frame.DataFrame'>\n",
            "RangeIndex: 30000 entries, 0 to 29999\n",
            "Data columns (total 25 columns):\n",
            " #   Column     Non-Null Count  Dtype\n",
            "---  ------     --------------  -----\n",
            " 0   ID         30000 non-null  int64\n",
            " 1   LIMIT_BAL  30000 non-null  int64\n",
            " 2   SEX        30000 non-null  int64\n",
            " 3   EDUCATION  30000 non-null  int64\n",
            " 4   MARRIAGE   30000 non-null  int64\n",
            " 5   AGE        30000 non-null  int64\n",
            " 6   PAY_0      30000 non-null  int64\n",
            " 7   PAY_2      30000 non-null  int64\n",
            " 8   PAY_3      30000 non-null  int64\n",
            " 9   PAY_4      30000 non-null  int64\n",
            " 10  PAY_5      30000 non-null  int64\n",
            " 11  PAY_6      30000 non-null  int64\n",
            " 12  BILL_AMT1  30000 non-null  int64\n",
            " 13  BILL_AMT2  30000 non-null  int64\n",
            " 14  BILL_AMT3  30000 non-null  int64\n",
            " 15  BILL_AMT4  30000 non-null  int64\n",
            " 16  BILL_AMT5  30000 non-null  int64\n",
            " 17  BILL_AMT6  30000 non-null  int64\n",
            " 18  PAY_AMT1   30000 non-null  int64\n",
            " 19  PAY_AMT2   30000 non-null  int64\n",
            " 20  PAY_AMT3   30000 non-null  int64\n",
            " 21  PAY_AMT4   30000 non-null  int64\n",
            " 22  PAY_AMT5   30000 non-null  int64\n",
            " 23  PAY_AMT6   30000 non-null  int64\n",
            " 24  default    30000 non-null  int64\n",
            "dtypes: int64(25)\n",
            "memory usage: 5.7 MB\n",
            "None\n",
            "default\n",
            "0    23364\n",
            "1     6636\n",
            "Name: count, dtype: int64\n"
          ]
        }
      ]
    },
    {
      "cell_type": "code",
      "source": [
        "df.to_csv(\"credit_default_cleaned.csv\", index=False)\n"
      ],
      "metadata": {
        "id": "1T_vob5U81hj"
      },
      "execution_count": null,
      "outputs": []
    },
    {
      "cell_type": "code",
      "source": [],
      "metadata": {
        "id": "20yIJcuB8_yg"
      },
      "execution_count": null,
      "outputs": []
    }
  ],
  "metadata": {
    "colab": {
      "provenance": [],
      "include_colab_link": true
    },
    "kernelspec": {
      "display_name": "Python 3",
      "name": "python3"
    }
  },
  "nbformat": 4,
  "nbformat_minor": 0
}